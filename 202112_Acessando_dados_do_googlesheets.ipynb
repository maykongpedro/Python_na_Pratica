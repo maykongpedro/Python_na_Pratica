{
  "nbformat": 4,
  "nbformat_minor": 0,
  "metadata": {
    "colab": {
      "name": "202112_Acessando dados do googlesheets.ipynb",
      "provenance": [],
      "collapsed_sections": [],
      "mount_file_id": "1UZvzWSlhfUTBN40DjqQPVP3FRo_D3dVo",
      "authorship_tag": "ABX9TyPXa7ixL4CrJDYP5aWnHuVP",
      "include_colab_link": true
    },
    "kernelspec": {
      "name": "python3",
      "display_name": "Python 3"
    },
    "language_info": {
      "name": "python"
    }
  },
  "cells": [
    {
      "cell_type": "markdown",
      "metadata": {
        "id": "view-in-github",
        "colab_type": "text"
      },
      "source": [
        "<a href=\"https://colab.research.google.com/github/maykongpedro/Python_na_Pratica/blob/main/202112_Acessando_dados_do_googlesheets.ipynb\" target=\"_parent\"><img src=\"https://colab.research.google.com/assets/colab-badge.svg\" alt=\"Open In Colab\"/></a>"
      ]
    },
    {
      "cell_type": "markdown",
      "source": [
        "Script guiado do vídeo da Kizzy no canal Programação Dinâmica. Link do vídeo: [Acessar vídeo](https://youtu.be/8vKvsLTLDzs)\n"
      ],
      "metadata": {
        "id": "znmXtUWPDWh3"
      }
    },
    {
      "cell_type": "markdown",
      "source": [
        "\n",
        "*   !pip install = para instalar um novo pacote/biblioteca\n",
        "*   --upgrade = para garantir que estamos utilizando a última versão do pacote\n",
        "*   gspread = pacote para fazer a conexão com o googlesheets\n",
        "\n"
      ],
      "metadata": {
        "id": "I_nz8TH-igwj"
      }
    },
    {
      "cell_type": "code",
      "execution_count": null,
      "metadata": {
        "colab": {
          "base_uri": "https://localhost:8080/"
        },
        "id": "OOJItE4wC9ja",
        "outputId": "efe31081-ae9a-4749-d5cc-4935131022b5"
      },
      "outputs": [
        {
          "output_type": "stream",
          "name": "stdout",
          "text": [
            "Requirement already satisfied: gspread in /usr/local/lib/python3.7/dist-packages (5.0.0)\n",
            "Requirement already satisfied: google-auth-oauthlib>=0.4.1 in /usr/local/lib/python3.7/dist-packages (from gspread) (0.4.6)\n",
            "Requirement already satisfied: google-auth>=1.12.0 in /usr/local/lib/python3.7/dist-packages (from gspread) (1.35.0)\n",
            "Requirement already satisfied: cachetools<5.0,>=2.0.0 in /usr/local/lib/python3.7/dist-packages (from google-auth>=1.12.0->gspread) (4.2.4)\n",
            "Requirement already satisfied: pyasn1-modules>=0.2.1 in /usr/local/lib/python3.7/dist-packages (from google-auth>=1.12.0->gspread) (0.2.8)\n",
            "Requirement already satisfied: six>=1.9.0 in /usr/local/lib/python3.7/dist-packages (from google-auth>=1.12.0->gspread) (1.15.0)\n",
            "Requirement already satisfied: rsa<5,>=3.1.4 in /usr/local/lib/python3.7/dist-packages (from google-auth>=1.12.0->gspread) (4.8)\n",
            "Requirement already satisfied: setuptools>=40.3.0 in /usr/local/lib/python3.7/dist-packages (from google-auth>=1.12.0->gspread) (57.4.0)\n",
            "Requirement already satisfied: requests-oauthlib>=0.7.0 in /usr/local/lib/python3.7/dist-packages (from google-auth-oauthlib>=0.4.1->gspread) (1.3.0)\n",
            "Requirement already satisfied: pyasn1<0.5.0,>=0.4.6 in /usr/local/lib/python3.7/dist-packages (from pyasn1-modules>=0.2.1->google-auth>=1.12.0->gspread) (0.4.8)\n",
            "Requirement already satisfied: requests>=2.0.0 in /usr/local/lib/python3.7/dist-packages (from requests-oauthlib>=0.7.0->google-auth-oauthlib>=0.4.1->gspread) (2.23.0)\n",
            "Requirement already satisfied: oauthlib>=3.0.0 in /usr/local/lib/python3.7/dist-packages (from requests-oauthlib>=0.7.0->google-auth-oauthlib>=0.4.1->gspread) (3.1.1)\n",
            "Requirement already satisfied: chardet<4,>=3.0.2 in /usr/local/lib/python3.7/dist-packages (from requests>=2.0.0->requests-oauthlib>=0.7.0->google-auth-oauthlib>=0.4.1->gspread) (3.0.4)\n",
            "Requirement already satisfied: idna<3,>=2.5 in /usr/local/lib/python3.7/dist-packages (from requests>=2.0.0->requests-oauthlib>=0.7.0->google-auth-oauthlib>=0.4.1->gspread) (2.10)\n",
            "Requirement already satisfied: certifi>=2017.4.17 in /usr/local/lib/python3.7/dist-packages (from requests>=2.0.0->requests-oauthlib>=0.7.0->google-auth-oauthlib>=0.4.1->gspread) (2021.10.8)\n",
            "Requirement already satisfied: urllib3!=1.25.0,!=1.25.1,<1.26,>=1.21.1 in /usr/local/lib/python3.7/dist-packages (from requests>=2.0.0->requests-oauthlib>=0.7.0->google-auth-oauthlib>=0.4.1->gspread) (1.24.3)\n"
          ]
        }
      ],
      "source": [
        "!pip install --upgrade gspread\n"
      ]
    },
    {
      "cell_type": "markdown",
      "source": [
        "Depois disso precisamos autenticar no googlesheets. Para isso podemos pegar um script de exemplo disponível em \"arquivo/abrir notebook/exemplos\"."
      ],
      "metadata": {
        "id": "dgPoH02mjTCq"
      }
    },
    {
      "cell_type": "code",
      "source": [
        "from google.colab import auth\n",
        "auth.authenticate_user()\n",
        "\n",
        "import gspread\n",
        "from oauth2client.client import GoogleCredentials\n",
        "\n",
        "gc = gspread.authorize(GoogleCredentials.get_application_default())"
      ],
      "metadata": {
        "id": "CnAIDvrPjgrx"
      },
      "execution_count": null,
      "outputs": []
    },
    {
      "cell_type": "markdown",
      "source": [
        "Não consegui abrir nenhuma planilha do meu drive, não sei porque."
      ],
      "metadata": {
        "id": "vshxp0OIDsoy"
      }
    },
    {
      "cell_type": "code",
      "source": [
        "# spreedsheet = gc.open('rzvol')\n",
        "# sh = gc.open_by_url('https://docs.google.com/spreadsheets/d/167h8pVO85h52qqyTXTODpTOIg9V-8oyz/edit#gid=396760172')\n",
        "\n",
        "# sh = gc.create('new_spreedsheet')"
      ],
      "metadata": {
        "id": "ls1XsYhUkj_Y"
      },
      "execution_count": null,
      "outputs": []
    },
    {
      "cell_type": "markdown",
      "source": [
        "Consegui abrir uma nova que criei especificamente pra isso."
      ],
      "metadata": {
        "id": "LkbYkP1aJ7Ow"
      }
    },
    {
      "cell_type": "code",
      "source": [
        "worksheet = gc.open('new_spreedsheet')"
      ],
      "metadata": {
        "id": "clkWVdym_7mO"
      },
      "execution_count": null,
      "outputs": []
    },
    {
      "cell_type": "code",
      "source": [
        "# alocar planihla 1 em um objeto chamado \"sh\"\n",
        "sh = worksheet.sheet1"
      ],
      "metadata": {
        "id": "ycp-OD3gJ_Pt"
      },
      "execution_count": null,
      "outputs": []
    },
    {
      "cell_type": "code",
      "source": [
        "# exibir primeira linha da planilha\n",
        "sh.row_values(1)"
      ],
      "metadata": {
        "colab": {
          "base_uri": "https://localhost:8080/"
        },
        "id": "RWMmjN0nKHz8",
        "outputId": "d602cad3-dc22-4fa0-e6c6-e75fb4650dd3"
      },
      "execution_count": null,
      "outputs": [
        {
          "output_type": "execute_result",
          "data": {
            "text/plain": [
              "['mapeamento',\n",
              " 'fonte',\n",
              " 'ano_base',\n",
              " 'uf',\n",
              " 'estado',\n",
              " 'municipio',\n",
              " 'code_muni',\n",
              " 'nucleo_regional',\n",
              " 'genero',\n",
              " 'area_ha']"
            ]
          },
          "metadata": {},
          "execution_count": 21
        }
      ]
    },
    {
      "cell_type": "code",
      "source": [
        "# obter conteúdo de uma célula específica\n",
        "sh.acell('a1').value"
      ],
      "metadata": {
        "colab": {
          "base_uri": "https://localhost:8080/",
          "height": 35
        },
        "id": "gVuFT0YuNPzU",
        "outputId": "f20b552b-bf32-4ff9-fb21-a534e4405139"
      },
      "execution_count": null,
      "outputs": [
        {
          "output_type": "execute_result",
          "data": {
            "application/vnd.google.colaboratory.intrinsic+json": {
              "type": "string"
            },
            "text/plain": [
              "'mapeamento'"
            ]
          },
          "metadata": {},
          "execution_count": 22
        }
      ]
    },
    {
      "cell_type": "code",
      "source": [
        "# obter conteúdo de uma célula específica (outro método)\n",
        "# linha 1, coluna 3\n",
        "sh.cell(1, 3).value"
      ],
      "metadata": {
        "colab": {
          "base_uri": "https://localhost:8080/",
          "height": 35
        },
        "id": "-dJBTaELNfV_",
        "outputId": "0f4f843e-d32e-44e3-a61e-187a8992bf16"
      },
      "execution_count": 26,
      "outputs": [
        {
          "output_type": "execute_result",
          "data": {
            "application/vnd.google.colaboratory.intrinsic+json": {
              "type": "string"
            },
            "text/plain": [
              "'ano_base'"
            ]
          },
          "metadata": {},
          "execution_count": 26
        }
      ]
    },
    {
      "cell_type": "code",
      "source": [
        "# alterando algo diretamente na planilha\n",
        "sh.update_acell('K1', 'col_teste')"
      ],
      "metadata": {
        "colab": {
          "base_uri": "https://localhost:8080/"
        },
        "id": "aT0O6qhidzJ4",
        "outputId": "6cec8440-fe56-47d1-f119-d70ff6fcd4b0"
      },
      "execution_count": null,
      "outputs": [
        {
          "output_type": "execute_result",
          "data": {
            "text/plain": [
              "{'spreadsheetId': '1RmvEAwVPYsCtVkWm9RCZUFz_v-FeLntQhzf_x0VasK0',\n",
              " 'updatedCells': 1,\n",
              " 'updatedColumns': 1,\n",
              " 'updatedRange': 'dados!K1',\n",
              " 'updatedRows': 1}"
            ]
          },
          "metadata": {},
          "execution_count": 25
        }
      ]
    },
    {
      "cell_type": "markdown",
      "source": [
        "A partir daqui usaremos o pandas para fazer manipulações na base de dados."
      ],
      "metadata": {
        "id": "S6UC7IgJfn6R"
      }
    },
    {
      "cell_type": "code",
      "source": [
        "import pandas as pd"
      ],
      "metadata": {
        "id": "yIyVz-zbfuQY"
      },
      "execution_count": 27,
      "outputs": []
    },
    {
      "cell_type": "code",
      "source": [
        "# obter todos os dados da planilha\n",
        "base = pd.DataFrame(sh.get_all_records())"
      ],
      "metadata": {
        "id": "Nbtid85DfwWL"
      },
      "execution_count": 28,
      "outputs": []
    },
    {
      "cell_type": "code",
      "source": [
        "# exibir as primeiras linhas da base de dados\n",
        "base.head()"
      ],
      "metadata": {
        "colab": {
          "base_uri": "https://localhost:8080/",
          "height": 206
        },
        "id": "t-rEesUugDL6",
        "outputId": "1d4fea6e-52b9-4d0a-cebc-c7877e31d017"
      },
      "execution_count": 30,
      "outputs": [
        {
          "output_type": "execute_result",
          "data": {
            "text/html": [
              "\n",
              "  <div id=\"df-8129a8d7-b456-4caf-80af-c0b4999cc2a8\">\n",
              "    <div class=\"colab-df-container\">\n",
              "      <div>\n",
              "<style scoped>\n",
              "    .dataframe tbody tr th:only-of-type {\n",
              "        vertical-align: middle;\n",
              "    }\n",
              "\n",
              "    .dataframe tbody tr th {\n",
              "        vertical-align: top;\n",
              "    }\n",
              "\n",
              "    .dataframe thead th {\n",
              "        text-align: right;\n",
              "    }\n",
              "</style>\n",
              "<table border=\"1\" class=\"dataframe\">\n",
              "  <thead>\n",
              "    <tr style=\"text-align: right;\">\n",
              "      <th></th>\n",
              "      <th>mapeamento</th>\n",
              "      <th>fonte</th>\n",
              "      <th>ano_base</th>\n",
              "      <th>uf</th>\n",
              "      <th>estado</th>\n",
              "      <th>municipio</th>\n",
              "      <th>code_muni</th>\n",
              "      <th>nucleo_regional</th>\n",
              "      <th>genero</th>\n",
              "      <th>area_ha</th>\n",
              "      <th>col_teste</th>\n",
              "    </tr>\n",
              "  </thead>\n",
              "  <tbody>\n",
              "    <tr>\n",
              "      <th>0</th>\n",
              "      <td>IBGE - Não identificado</td>\n",
              "      <td>IBGE - Dados disponibilizados pelo SNIF</td>\n",
              "      <td>2014</td>\n",
              "      <td>RO</td>\n",
              "      <td>Rondônia</td>\n",
              "      <td>Alta Floresta D'oeste</td>\n",
              "      <td>1100015</td>\n",
              "      <td></td>\n",
              "      <td>Eucalyptus</td>\n",
              "      <td>0</td>\n",
              "      <td></td>\n",
              "    </tr>\n",
              "    <tr>\n",
              "      <th>1</th>\n",
              "      <td>IBGE - Não identificado</td>\n",
              "      <td>IBGE - Dados disponibilizados pelo SNIF</td>\n",
              "      <td>2015</td>\n",
              "      <td>RO</td>\n",
              "      <td>Rondônia</td>\n",
              "      <td>Alta Floresta D'oeste</td>\n",
              "      <td>1100015</td>\n",
              "      <td></td>\n",
              "      <td>Eucalyptus</td>\n",
              "      <td>0</td>\n",
              "      <td></td>\n",
              "    </tr>\n",
              "    <tr>\n",
              "      <th>2</th>\n",
              "      <td>IBGE - Não identificado</td>\n",
              "      <td>IBGE - Dados disponibilizados pelo SNIF</td>\n",
              "      <td>2016</td>\n",
              "      <td>RO</td>\n",
              "      <td>Rondônia</td>\n",
              "      <td>Alta Floresta D'oeste</td>\n",
              "      <td>1100015</td>\n",
              "      <td></td>\n",
              "      <td>Eucalyptus</td>\n",
              "      <td>0</td>\n",
              "      <td></td>\n",
              "    </tr>\n",
              "    <tr>\n",
              "      <th>3</th>\n",
              "      <td>IBGE - Não identificado</td>\n",
              "      <td>IBGE - Dados disponibilizados pelo SNIF</td>\n",
              "      <td>2014</td>\n",
              "      <td>RO</td>\n",
              "      <td>Rondônia</td>\n",
              "      <td>Alta Floresta D'oeste</td>\n",
              "      <td>1100015</td>\n",
              "      <td></td>\n",
              "      <td>Pinus</td>\n",
              "      <td>0</td>\n",
              "      <td></td>\n",
              "    </tr>\n",
              "    <tr>\n",
              "      <th>4</th>\n",
              "      <td>IBGE - Não identificado</td>\n",
              "      <td>IBGE - Dados disponibilizados pelo SNIF</td>\n",
              "      <td>2015</td>\n",
              "      <td>RO</td>\n",
              "      <td>Rondônia</td>\n",
              "      <td>Alta Floresta D'oeste</td>\n",
              "      <td>1100015</td>\n",
              "      <td></td>\n",
              "      <td>Pinus</td>\n",
              "      <td>0</td>\n",
              "      <td></td>\n",
              "    </tr>\n",
              "  </tbody>\n",
              "</table>\n",
              "</div>\n",
              "      <button class=\"colab-df-convert\" onclick=\"convertToInteractive('df-8129a8d7-b456-4caf-80af-c0b4999cc2a8')\"\n",
              "              title=\"Convert this dataframe to an interactive table.\"\n",
              "              style=\"display:none;\">\n",
              "        \n",
              "  <svg xmlns=\"http://www.w3.org/2000/svg\" height=\"24px\"viewBox=\"0 0 24 24\"\n",
              "       width=\"24px\">\n",
              "    <path d=\"M0 0h24v24H0V0z\" fill=\"none\"/>\n",
              "    <path d=\"M18.56 5.44l.94 2.06.94-2.06 2.06-.94-2.06-.94-.94-2.06-.94 2.06-2.06.94zm-11 1L8.5 8.5l.94-2.06 2.06-.94-2.06-.94L8.5 2.5l-.94 2.06-2.06.94zm10 10l.94 2.06.94-2.06 2.06-.94-2.06-.94-.94-2.06-.94 2.06-2.06.94z\"/><path d=\"M17.41 7.96l-1.37-1.37c-.4-.4-.92-.59-1.43-.59-.52 0-1.04.2-1.43.59L10.3 9.45l-7.72 7.72c-.78.78-.78 2.05 0 2.83L4 21.41c.39.39.9.59 1.41.59.51 0 1.02-.2 1.41-.59l7.78-7.78 2.81-2.81c.8-.78.8-2.07 0-2.86zM5.41 20L4 18.59l7.72-7.72 1.47 1.35L5.41 20z\"/>\n",
              "  </svg>\n",
              "      </button>\n",
              "      \n",
              "  <style>\n",
              "    .colab-df-container {\n",
              "      display:flex;\n",
              "      flex-wrap:wrap;\n",
              "      gap: 12px;\n",
              "    }\n",
              "\n",
              "    .colab-df-convert {\n",
              "      background-color: #E8F0FE;\n",
              "      border: none;\n",
              "      border-radius: 50%;\n",
              "      cursor: pointer;\n",
              "      display: none;\n",
              "      fill: #1967D2;\n",
              "      height: 32px;\n",
              "      padding: 0 0 0 0;\n",
              "      width: 32px;\n",
              "    }\n",
              "\n",
              "    .colab-df-convert:hover {\n",
              "      background-color: #E2EBFA;\n",
              "      box-shadow: 0px 1px 2px rgba(60, 64, 67, 0.3), 0px 1px 3px 1px rgba(60, 64, 67, 0.15);\n",
              "      fill: #174EA6;\n",
              "    }\n",
              "\n",
              "    [theme=dark] .colab-df-convert {\n",
              "      background-color: #3B4455;\n",
              "      fill: #D2E3FC;\n",
              "    }\n",
              "\n",
              "    [theme=dark] .colab-df-convert:hover {\n",
              "      background-color: #434B5C;\n",
              "      box-shadow: 0px 1px 3px 1px rgba(0, 0, 0, 0.15);\n",
              "      filter: drop-shadow(0px 1px 2px rgba(0, 0, 0, 0.3));\n",
              "      fill: #FFFFFF;\n",
              "    }\n",
              "  </style>\n",
              "\n",
              "      <script>\n",
              "        const buttonEl =\n",
              "          document.querySelector('#df-8129a8d7-b456-4caf-80af-c0b4999cc2a8 button.colab-df-convert');\n",
              "        buttonEl.style.display =\n",
              "          google.colab.kernel.accessAllowed ? 'block' : 'none';\n",
              "\n",
              "        async function convertToInteractive(key) {\n",
              "          const element = document.querySelector('#df-8129a8d7-b456-4caf-80af-c0b4999cc2a8');\n",
              "          const dataTable =\n",
              "            await google.colab.kernel.invokeFunction('convertToInteractive',\n",
              "                                                     [key], {});\n",
              "          if (!dataTable) return;\n",
              "\n",
              "          const docLinkHtml = 'Like what you see? Visit the ' +\n",
              "            '<a target=\"_blank\" href=https://colab.research.google.com/notebooks/data_table.ipynb>data table notebook</a>'\n",
              "            + ' to learn more about interactive tables.';\n",
              "          element.innerHTML = '';\n",
              "          dataTable['output_type'] = 'display_data';\n",
              "          await google.colab.output.renderOutput(dataTable, element);\n",
              "          const docLink = document.createElement('div');\n",
              "          docLink.innerHTML = docLinkHtml;\n",
              "          element.appendChild(docLink);\n",
              "        }\n",
              "      </script>\n",
              "    </div>\n",
              "  </div>\n",
              "  "
            ],
            "text/plain": [
              "                mapeamento  ... col_teste\n",
              "0  IBGE - Não identificado  ...          \n",
              "1  IBGE - Não identificado  ...          \n",
              "2  IBGE - Não identificado  ...          \n",
              "3  IBGE - Não identificado  ...          \n",
              "4  IBGE - Não identificado  ...          \n",
              "\n",
              "[5 rows x 11 columns]"
            ]
          },
          "metadata": {},
          "execution_count": 30
        }
      ]
    },
    {
      "cell_type": "markdown",
      "source": [
        "Como realizar filtros na base?\n",
        "No vídeo a Kizzy usou o método `query`, algumas outras opções podem ser encontradas no seguinte link = https://medium.com/data-hackers/a-maneira-eficiente-de-filtrar-um-data-frame-pandas-4158a4e37c10\n"
      ],
      "metadata": {
        "id": "O3HFJqCqhlVJ"
      }
    },
    {
      "cell_type": "code",
      "source": [
        "dados_2014 = base.query('ano_base == 2014')\n",
        "dados_2014.head()"
      ],
      "metadata": {
        "colab": {
          "base_uri": "https://localhost:8080/",
          "height": 206
        },
        "id": "E-W3BCEzgVXE",
        "outputId": "9c6d8ea6-ef48-4912-dfd9-f0a7ba6e2767"
      },
      "execution_count": 41,
      "outputs": [
        {
          "output_type": "execute_result",
          "data": {
            "text/html": [
              "\n",
              "  <div id=\"df-dd4ac40e-dd9b-42bf-95a4-616ed6f521d4\">\n",
              "    <div class=\"colab-df-container\">\n",
              "      <div>\n",
              "<style scoped>\n",
              "    .dataframe tbody tr th:only-of-type {\n",
              "        vertical-align: middle;\n",
              "    }\n",
              "\n",
              "    .dataframe tbody tr th {\n",
              "        vertical-align: top;\n",
              "    }\n",
              "\n",
              "    .dataframe thead th {\n",
              "        text-align: right;\n",
              "    }\n",
              "</style>\n",
              "<table border=\"1\" class=\"dataframe\">\n",
              "  <thead>\n",
              "    <tr style=\"text-align: right;\">\n",
              "      <th></th>\n",
              "      <th>mapeamento</th>\n",
              "      <th>fonte</th>\n",
              "      <th>ano_base</th>\n",
              "      <th>uf</th>\n",
              "      <th>estado</th>\n",
              "      <th>municipio</th>\n",
              "      <th>code_muni</th>\n",
              "      <th>nucleo_regional</th>\n",
              "      <th>genero</th>\n",
              "      <th>area_ha</th>\n",
              "      <th>col_teste</th>\n",
              "    </tr>\n",
              "  </thead>\n",
              "  <tbody>\n",
              "    <tr>\n",
              "      <th>0</th>\n",
              "      <td>IBGE - Não identificado</td>\n",
              "      <td>IBGE - Dados disponibilizados pelo SNIF</td>\n",
              "      <td>2014</td>\n",
              "      <td>RO</td>\n",
              "      <td>Rondônia</td>\n",
              "      <td>Alta Floresta D'oeste</td>\n",
              "      <td>1100015</td>\n",
              "      <td></td>\n",
              "      <td>Eucalyptus</td>\n",
              "      <td>0</td>\n",
              "      <td></td>\n",
              "    </tr>\n",
              "    <tr>\n",
              "      <th>3</th>\n",
              "      <td>IBGE - Não identificado</td>\n",
              "      <td>IBGE - Dados disponibilizados pelo SNIF</td>\n",
              "      <td>2014</td>\n",
              "      <td>RO</td>\n",
              "      <td>Rondônia</td>\n",
              "      <td>Alta Floresta D'oeste</td>\n",
              "      <td>1100015</td>\n",
              "      <td></td>\n",
              "      <td>Pinus</td>\n",
              "      <td>0</td>\n",
              "      <td></td>\n",
              "    </tr>\n",
              "    <tr>\n",
              "      <th>6</th>\n",
              "      <td>IBGE - Não identificado</td>\n",
              "      <td>IBGE - Dados disponibilizados pelo SNIF</td>\n",
              "      <td>2014</td>\n",
              "      <td>RO</td>\n",
              "      <td>Rondônia</td>\n",
              "      <td>Alta Floresta D'oeste</td>\n",
              "      <td>1100015</td>\n",
              "      <td></td>\n",
              "      <td>Outros</td>\n",
              "      <td>250</td>\n",
              "      <td></td>\n",
              "    </tr>\n",
              "    <tr>\n",
              "      <th>9</th>\n",
              "      <td>IBGE - Não identificado</td>\n",
              "      <td>IBGE - Dados disponibilizados pelo SNIF</td>\n",
              "      <td>2014</td>\n",
              "      <td>RO</td>\n",
              "      <td>Rondônia</td>\n",
              "      <td>Cacoal</td>\n",
              "      <td>1100049</td>\n",
              "      <td></td>\n",
              "      <td>Eucalyptus</td>\n",
              "      <td>0</td>\n",
              "      <td></td>\n",
              "    </tr>\n",
              "    <tr>\n",
              "      <th>12</th>\n",
              "      <td>IBGE - Não identificado</td>\n",
              "      <td>IBGE - Dados disponibilizados pelo SNIF</td>\n",
              "      <td>2014</td>\n",
              "      <td>RO</td>\n",
              "      <td>Rondônia</td>\n",
              "      <td>Cacoal</td>\n",
              "      <td>1100049</td>\n",
              "      <td></td>\n",
              "      <td>Pinus</td>\n",
              "      <td>0</td>\n",
              "      <td></td>\n",
              "    </tr>\n",
              "  </tbody>\n",
              "</table>\n",
              "</div>\n",
              "      <button class=\"colab-df-convert\" onclick=\"convertToInteractive('df-dd4ac40e-dd9b-42bf-95a4-616ed6f521d4')\"\n",
              "              title=\"Convert this dataframe to an interactive table.\"\n",
              "              style=\"display:none;\">\n",
              "        \n",
              "  <svg xmlns=\"http://www.w3.org/2000/svg\" height=\"24px\"viewBox=\"0 0 24 24\"\n",
              "       width=\"24px\">\n",
              "    <path d=\"M0 0h24v24H0V0z\" fill=\"none\"/>\n",
              "    <path d=\"M18.56 5.44l.94 2.06.94-2.06 2.06-.94-2.06-.94-.94-2.06-.94 2.06-2.06.94zm-11 1L8.5 8.5l.94-2.06 2.06-.94-2.06-.94L8.5 2.5l-.94 2.06-2.06.94zm10 10l.94 2.06.94-2.06 2.06-.94-2.06-.94-.94-2.06-.94 2.06-2.06.94z\"/><path d=\"M17.41 7.96l-1.37-1.37c-.4-.4-.92-.59-1.43-.59-.52 0-1.04.2-1.43.59L10.3 9.45l-7.72 7.72c-.78.78-.78 2.05 0 2.83L4 21.41c.39.39.9.59 1.41.59.51 0 1.02-.2 1.41-.59l7.78-7.78 2.81-2.81c.8-.78.8-2.07 0-2.86zM5.41 20L4 18.59l7.72-7.72 1.47 1.35L5.41 20z\"/>\n",
              "  </svg>\n",
              "      </button>\n",
              "      \n",
              "  <style>\n",
              "    .colab-df-container {\n",
              "      display:flex;\n",
              "      flex-wrap:wrap;\n",
              "      gap: 12px;\n",
              "    }\n",
              "\n",
              "    .colab-df-convert {\n",
              "      background-color: #E8F0FE;\n",
              "      border: none;\n",
              "      border-radius: 50%;\n",
              "      cursor: pointer;\n",
              "      display: none;\n",
              "      fill: #1967D2;\n",
              "      height: 32px;\n",
              "      padding: 0 0 0 0;\n",
              "      width: 32px;\n",
              "    }\n",
              "\n",
              "    .colab-df-convert:hover {\n",
              "      background-color: #E2EBFA;\n",
              "      box-shadow: 0px 1px 2px rgba(60, 64, 67, 0.3), 0px 1px 3px 1px rgba(60, 64, 67, 0.15);\n",
              "      fill: #174EA6;\n",
              "    }\n",
              "\n",
              "    [theme=dark] .colab-df-convert {\n",
              "      background-color: #3B4455;\n",
              "      fill: #D2E3FC;\n",
              "    }\n",
              "\n",
              "    [theme=dark] .colab-df-convert:hover {\n",
              "      background-color: #434B5C;\n",
              "      box-shadow: 0px 1px 3px 1px rgba(0, 0, 0, 0.15);\n",
              "      filter: drop-shadow(0px 1px 2px rgba(0, 0, 0, 0.3));\n",
              "      fill: #FFFFFF;\n",
              "    }\n",
              "  </style>\n",
              "\n",
              "      <script>\n",
              "        const buttonEl =\n",
              "          document.querySelector('#df-dd4ac40e-dd9b-42bf-95a4-616ed6f521d4 button.colab-df-convert');\n",
              "        buttonEl.style.display =\n",
              "          google.colab.kernel.accessAllowed ? 'block' : 'none';\n",
              "\n",
              "        async function convertToInteractive(key) {\n",
              "          const element = document.querySelector('#df-dd4ac40e-dd9b-42bf-95a4-616ed6f521d4');\n",
              "          const dataTable =\n",
              "            await google.colab.kernel.invokeFunction('convertToInteractive',\n",
              "                                                     [key], {});\n",
              "          if (!dataTable) return;\n",
              "\n",
              "          const docLinkHtml = 'Like what you see? Visit the ' +\n",
              "            '<a target=\"_blank\" href=https://colab.research.google.com/notebooks/data_table.ipynb>data table notebook</a>'\n",
              "            + ' to learn more about interactive tables.';\n",
              "          element.innerHTML = '';\n",
              "          dataTable['output_type'] = 'display_data';\n",
              "          await google.colab.output.renderOutput(dataTable, element);\n",
              "          const docLink = document.createElement('div');\n",
              "          docLink.innerHTML = docLinkHtml;\n",
              "          element.appendChild(docLink);\n",
              "        }\n",
              "      </script>\n",
              "    </div>\n",
              "  </div>\n",
              "  "
            ],
            "text/plain": [
              "                 mapeamento  ... col_teste\n",
              "0   IBGE - Não identificado  ...          \n",
              "3   IBGE - Não identificado  ...          \n",
              "6   IBGE - Não identificado  ...          \n",
              "9   IBGE - Não identificado  ...          \n",
              "12  IBGE - Não identificado  ...          \n",
              "\n",
              "[5 rows x 11 columns]"
            ]
          },
          "metadata": {},
          "execution_count": 41
        }
      ]
    },
    {
      "cell_type": "markdown",
      "source": [
        "Criar uma nova planilha dentro da Woorkbook.\n"
      ],
      "metadata": {
        "id": "AkhqMrxMjvj1"
      }
    },
    {
      "cell_type": "code",
      "source": [
        "# obter número de linhas\n",
        "dados_2014.info()"
      ],
      "metadata": {
        "colab": {
          "base_uri": "https://localhost:8080/"
        },
        "id": "C8O2pZsykYGp",
        "outputId": "62561a53-b6a9-4d95-a35c-375527f9ed64"
      },
      "execution_count": 42,
      "outputs": [
        {
          "output_type": "stream",
          "name": "stdout",
          "text": [
            "<class 'pandas.core.frame.DataFrame'>\n",
            "Int64Index: 9 entries, 0 to 24\n",
            "Data columns (total 11 columns):\n",
            " #   Column           Non-Null Count  Dtype \n",
            "---  ------           --------------  ----- \n",
            " 0   mapeamento       9 non-null      object\n",
            " 1   fonte            9 non-null      object\n",
            " 2   ano_base         9 non-null      int64 \n",
            " 3   uf               9 non-null      object\n",
            " 4   estado           9 non-null      object\n",
            " 5   municipio        9 non-null      object\n",
            " 6   code_muni        9 non-null      int64 \n",
            " 7   nucleo_regional  9 non-null      object\n",
            " 8   genero           9 non-null      object\n",
            " 9   area_ha          9 non-null      int64 \n",
            " 10  col_teste        9 non-null      object\n",
            "dtypes: int64(3), object(8)\n",
            "memory usage: 864.0+ bytes\n"
          ]
        }
      ]
    },
    {
      "cell_type": "code",
      "source": [
        "ano_base_2014 = worksheet.add_worksheet('ano_base_2014', rows = 9, cols = 11)"
      ],
      "metadata": {
        "id": "XnpJ9MeUjzS0"
      },
      "execution_count": 43,
      "outputs": []
    },
    {
      "cell_type": "markdown",
      "source": [
        "Agora basta adicionar os dados filtrados nessa nova planilha.\n",
        "A Kizzy fez usando o método abaixo, porém o pacote mudou e o método update não existe mais, preciso pesquisar como fazer isso de maneira atualizada."
      ],
      "metadata": {
        "id": "7JprvsgRlE81"
      }
    },
    {
      "cell_type": "code",
      "source": [
        "ano_base_2014.update([dados_2014.columns.values.tolist()] + dados_2014.values.tolist())"
      ],
      "metadata": {
        "colab": {
          "base_uri": "https://localhost:8080/",
          "height": 165
        },
        "id": "oIgZi5EClImo",
        "outputId": "4a3601d1-69ae-42c2-9d53-9c2ce2b43ffc"
      },
      "execution_count": 45,
      "outputs": [
        {
          "output_type": "error",
          "ename": "AttributeError",
          "evalue": "ignored",
          "traceback": [
            "\u001b[0;31m---------------------------------------------------------------------------\u001b[0m",
            "\u001b[0;31mAttributeError\u001b[0m                            Traceback (most recent call last)",
            "\u001b[0;32m<ipython-input-45-33f2c8f1a2ea>\u001b[0m in \u001b[0;36m<module>\u001b[0;34m()\u001b[0m\n\u001b[0;32m----> 1\u001b[0;31m \u001b[0mano_base_2014\u001b[0m\u001b[0;34m.\u001b[0m\u001b[0mupdate\u001b[0m\u001b[0;34m(\u001b[0m\u001b[0;34m[\u001b[0m\u001b[0mdados_2014\u001b[0m\u001b[0;34m.\u001b[0m\u001b[0mcolumns\u001b[0m\u001b[0;34m.\u001b[0m\u001b[0mvalues\u001b[0m\u001b[0;34m.\u001b[0m\u001b[0mtolist\u001b[0m\u001b[0;34m(\u001b[0m\u001b[0;34m)\u001b[0m\u001b[0;34m]\u001b[0m \u001b[0;34m+\u001b[0m \u001b[0mdados_2014\u001b[0m\u001b[0;34m.\u001b[0m\u001b[0mvalues\u001b[0m\u001b[0;34m.\u001b[0m\u001b[0mtolist\u001b[0m\u001b[0;34m(\u001b[0m\u001b[0;34m)\u001b[0m\u001b[0;34m)\u001b[0m\u001b[0;34m\u001b[0m\u001b[0;34m\u001b[0m\u001b[0m\n\u001b[0m",
            "\u001b[0;31mAttributeError\u001b[0m: 'Worksheet' object has no attribute 'update'"
          ]
        }
      ]
    }
  ]
}